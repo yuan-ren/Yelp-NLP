{
 "cells": [
  {
   "cell_type": "code",
   "execution_count": 2,
   "metadata": {
    "collapsed": false
   },
   "outputs": [],
   "source": [
    "import ujson\n",
    "import pandas as pd\n",
    "import numpy as np\n",
    "from sklearn.base import BaseEstimator, RegressorMixin, TransformerMixin\n",
    "from sklearn.pipeline import Pipeline, FeatureUnion\n",
    "from sklearn import cross_validation, grid_search\n",
    "from sklearn.metrics import mean_squared_error\n",
    "from sklearn.feature_extraction.text import TfidfTransformer\n",
    "from sklearn.feature_extraction import DictVectorizer\n",
    "from sklearn.linear_model import Ridge\n",
    "from sklearn.ensemble import RandomForestRegressor\n",
    "from sklearn.neighbors import KNeighborsRegressor"
   ]
  },
  {
   "cell_type": "code",
   "execution_count": 3,
   "metadata": {
    "collapsed": false
   },
   "outputs": [
    {
     "data": {
      "text/html": [
       "<div>\n",
       "<table border=\"1\" class=\"dataframe\">\n",
       "  <thead>\n",
       "    <tr style=\"text-align: right;\">\n",
       "      <th></th>\n",
       "      <th>attributes</th>\n",
       "      <th>business_id</th>\n",
       "      <th>categories</th>\n",
       "      <th>city</th>\n",
       "      <th>full_address</th>\n",
       "      <th>hours</th>\n",
       "      <th>latitude</th>\n",
       "      <th>longitude</th>\n",
       "      <th>name</th>\n",
       "      <th>neighborhoods</th>\n",
       "      <th>open</th>\n",
       "      <th>review_count</th>\n",
       "      <th>stars</th>\n",
       "      <th>state</th>\n",
       "      <th>type</th>\n",
       "    </tr>\n",
       "  </thead>\n",
       "  <tbody>\n",
       "    <tr>\n",
       "      <th>0</th>\n",
       "      <td>{u'Take-out': True, u'Drive-Thru': False, u'Ou...</td>\n",
       "      <td>5UmKMjUEUNdYWqANhGckJw</td>\n",
       "      <td>[Fast Food, Restaurants]</td>\n",
       "      <td>Dravosburg</td>\n",
       "      <td>4734 Lebanon Church Rd\\nDravosburg, PA 15034</td>\n",
       "      <td>{u'Tuesday': {u'close': u'21:00', u'open': u'1...</td>\n",
       "      <td>40.354327</td>\n",
       "      <td>-79.900706</td>\n",
       "      <td>Mr Hoagie</td>\n",
       "      <td>[]</td>\n",
       "      <td>True</td>\n",
       "      <td>4</td>\n",
       "      <td>4.5</td>\n",
       "      <td>PA</td>\n",
       "      <td>business</td>\n",
       "    </tr>\n",
       "  </tbody>\n",
       "</table>\n",
       "</div>"
      ],
      "text/plain": [
       "                                          attributes             business_id  \\\n",
       "0  {u'Take-out': True, u'Drive-Thru': False, u'Ou...  5UmKMjUEUNdYWqANhGckJw   \n",
       "\n",
       "                 categories        city  \\\n",
       "0  [Fast Food, Restaurants]  Dravosburg   \n",
       "\n",
       "                                   full_address  \\\n",
       "0  4734 Lebanon Church Rd\\nDravosburg, PA 15034   \n",
       "\n",
       "                                               hours   latitude  longitude  \\\n",
       "0  {u'Tuesday': {u'close': u'21:00', u'open': u'1...  40.354327 -79.900706   \n",
       "\n",
       "        name neighborhoods  open  review_count  stars state      type  \n",
       "0  Mr Hoagie            []  True             4    4.5    PA  business  "
      ]
     },
     "execution_count": 3,
     "metadata": {},
     "output_type": "execute_result"
    }
   ],
   "source": [
    "# read and parse the file\n",
    "with open('yelp_academic_dataset_business.json') as f:\n",
    "    data_all = pd.DataFrame(ujson.loads(line) for line in f)\n",
    "\n",
    "data = data_all[ [ 'Restaurants' in cat for cat in data_all['categories'] ] ]\n",
    "star = data['stars']\n",
    "data.head(1)"
   ]
  },
  {
   "cell_type": "code",
   "execution_count": 4,
   "metadata": {
    "collapsed": false
   },
   "outputs": [],
   "source": [
    "### for testing estimator ###\n",
    "class test_estimator():\n",
    "    def __init__(self, estimator, X, y):\n",
    "        self.estimator = estimator\n",
    "        self.X = X\n",
    "        self.y = y\n",
    "        \n",
    "    def score(self):\n",
    "        \"\"\"\n",
    "        return root mean squared error\n",
    "        \"\"\"\n",
    "        X_train, X_test, y_train, y_test = cross_validation.train_test_split(self.X, self.y, \n",
    "                                                                             test_size=0.2, random_state=22)\n",
    "        self.estimator.fit(X_train, y_train)\n",
    "        y_predict = self.estimator.predict(X_test)\n",
    "        return np.sqrt(mean_squared_error(y_test, y_predict))"
   ]
  },
  {
   "cell_type": "code",
   "execution_count": 5,
   "metadata": {
    "collapsed": false
   },
   "outputs": [
    {
     "data": {
      "text/plain": [
       "0.75060058989508882"
      ]
     },
     "execution_count": 5,
     "metadata": {},
     "output_type": "execute_result"
    }
   ],
   "source": [
    "# predict based on average stars of the selected 'city'\n",
    "class city_estimator(BaseEstimator, RegressorMixin):\n",
    "    def fit(self, X, y=None):\n",
    "        self.existing_cities = X.groupby('city').mean()['stars']\n",
    "        self.other_cities = X.mean()['stars']\n",
    "        return self\n",
    "    \n",
    "    def predict(self, X, y=None):\n",
    "        try:\n",
    "            getattr(self, \"existing_cities\")\n",
    "        except AttributeError:\n",
    "            raise RuntimeError(\"Must train the regressor before predicting data!\")\n",
    "\n",
    "        return [self.existing_cities[c] if c in self.existing_cities else self.other_cities for c in X['city']]\n",
    "\n",
    "city_model = city_estimator()\n",
    "test_estimator(city_model, data, star).score()"
   ]
  },
  {
   "cell_type": "code",
   "execution_count": 6,
   "metadata": {
    "collapsed": false
   },
   "outputs": [
    {
     "data": {
      "text/plain": [
       "0.7428556021479974"
      ]
     },
     "execution_count": 6,
     "metadata": {},
     "output_type": "execute_result"
    }
   ],
   "source": [
    "### Customized transformers ###\n",
    "class ColumnSelectTransformer(BaseEstimator, TransformerMixin):\n",
    "    def __init__(self, keys):\n",
    "        self.keys = keys\n",
    "\n",
    "    def fit(self, X, y=None):\n",
    "        return self\n",
    "\n",
    "    def transform(self, X):\n",
    "        return X[self.keys]\n",
    "\n",
    "# predict based on lat and long\n",
    "lat_long_pipeline = Pipeline([\n",
    "    ('trans', ColumnSelectTransformer(['latitude', 'longitude'])),\n",
    "    ('est', KNeighborsRegressor())\n",
    "])\n",
    "\n",
    "cv = cross_validation.ShuffleSplit(int(len(data)*0.8), n_iter=20, test_size=0.2, random_state=22)\n",
    "knn_param_grid = { \"est__n_neighbors\": range(10, 150, 10) } # best param ~ 70\n",
    "knn_regression_cv = grid_search.GridSearchCV(lat_long_pipeline, \n",
    "                                             param_grid=knn_param_grid, cv=cv,\n",
    "                                             scoring=\"mean_squared_error\")\n",
    "\n",
    "test_estimator(knn_regression_cv, data, star).score()"
   ]
  },
  {
   "cell_type": "code",
   "execution_count": 7,
   "metadata": {
    "collapsed": false
   },
   "outputs": [
    {
     "name": "stderr",
     "output_type": "stream",
     "text": [
      "C:\\Python27\\lib\\site-packages\\numpy\\core\\fromnumeric.py:2652: VisibleDeprecationWarning: `rank` is deprecated; use the `ndim` attribute or function instead. To find the rank of a matrix see `numpy.linalg.matrix_rank`.\n",
      "  VisibleDeprecationWarning)\n"
     ]
    },
    {
     "data": {
      "text/plain": [
       "0.70060986838061245"
      ]
     },
     "execution_count": 7,
     "metadata": {},
     "output_type": "execute_result"
    }
   ],
   "source": [
    "### predict based on category ###\n",
    "class CategoryTransformer(BaseEstimator, TransformerMixin):\n",
    "    def fit(self, X, y=None):\n",
    "        return self\n",
    "\n",
    "    def transform(self, X):\n",
    "        D = []\n",
    "        for record in X.values:\n",
    "            D.append({k: 1 if \"Restaurant\" not in k else 0 for k in record})\n",
    "        return D\n",
    "\n",
    "category_pipeline = Pipeline([\n",
    "    ('trans', ColumnSelectTransformer('categories')),\n",
    "    ('cat_trans', CategoryTransformer()),\n",
    "    ('vect', DictVectorizer()),\n",
    "    ('tfidf_vect', TfidfTransformer()),\n",
    "    ('est', Ridge())\n",
    "])\n",
    "\n",
    "cv = cross_validation.ShuffleSplit(int(len(data)*0.8), n_iter=20, test_size=0.2, random_state=22)\n",
    "param_grid = { \"est__alpha\": np.logspace(-1, 1.5, 10) }\n",
    "ridge_cv = grid_search.GridSearchCV(category_pipeline,\n",
    "                                    param_grid=param_grid, cv=cv,\n",
    "                                    scoring=\"mean_squared_error\")\n",
    "test_estimator(ridge_cv, data, star).score()"
   ]
  },
  {
   "cell_type": "code",
   "execution_count": null,
   "metadata": {
    "collapsed": false
   },
   "outputs": [],
   "source": [
    "ridge_cv.best_estimator_.get_params()"
   ]
  },
  {
   "cell_type": "markdown",
   "metadata": {},
   "source": [
    "Restaurants have (potentially nested) attributes:\n",
    "{'Attire': 'casual',\n",
    " 'Accepts Credit Cards': True,\n",
    " 'Ambience': {'casual': False, 'classy': False}}\n",
    " \n",
    "We will flatten the above into something like this:\n",
    "{'Attire_casual' : 1,\n",
    " 'Accepts Credit Cards': 1,\n",
    " 'Ambience_casual': 0,\n",
    " 'Ambience_classy': 0 }"
   ]
  },
  {
   "cell_type": "code",
   "execution_count": 13,
   "metadata": {
    "collapsed": false
   },
   "outputs": [
    {
     "data": {
      "text/plain": [
       "0.70257783693957587"
      ]
     },
     "execution_count": 13,
     "metadata": {},
     "output_type": "execute_result"
    }
   ],
   "source": [
    "### predict based on attributes ###\n",
    "class AttributeTransformer(BaseEstimator, TransformerMixin):\n",
    "    def _flatten(self, d, parent_key='', sep='_'):\n",
    "        \"\"\" Flatten dictonary\n",
    "        \"\"\"\n",
    "        items = []\n",
    "        for k, v in d.items():\n",
    "            new_key = parent_key + (sep + k if parent_key else k)\n",
    "            if isinstance(v, dict) and len(v)>0:\n",
    "                items.extend(self._flatten(v, new_key, sep=sep).items())\n",
    "            else:\n",
    "                new_v = 1 if v == True else 0\n",
    "                items.append((new_key, new_v))\n",
    "        return dict(items)\n",
    "\n",
    "    def fit(self, X, y=None):\n",
    "        return self\n",
    "\n",
    "    def transform(self, X):\n",
    "        D = []\n",
    "        for record in X.values:\n",
    "            D.append(self._flatten(record))\n",
    "        return D\n",
    "\n",
    "attribute_pipeline = Pipeline([\n",
    "    ('trans', ColumnSelectTransformer('attributes')),\n",
    "    ('cat_trans', AttributeTransformer()),\n",
    "    ('vect', DictVectorizer()),\n",
    "    ('tfidf_vect', TfidfTransformer()),\n",
    "    ('est', Ridge())\n",
    "])\n",
    "\n",
    "cv = cross_validation.ShuffleSplit(int(len(data)*0.8), n_iter=20, test_size=0.2, random_state=22)\n",
    "ridge_param_grid = { \"est__alpha\": np.logspace(-6., -.3, 5) }\n",
    "attribute_ridge_cv = grid_search.GridSearchCV(attribute_pipeline,\n",
    "                                              param_grid=ridge_param_grid, cv=cv,\n",
    "                                              scoring=\"mean_squared_error\")\n",
    "test_estimator(attribute_ridge_cv, data, star).score()"
   ]
  },
  {
   "cell_type": "code",
   "execution_count": 37,
   "metadata": {
    "collapsed": false
   },
   "outputs": [
    {
     "data": {
      "text/plain": [
       "0.67899750793599023"
      ]
     },
     "execution_count": 37,
     "metadata": {},
     "output_type": "execute_result"
    }
   ],
   "source": [
    "### full_model ###\n",
    "class ModelTransformer(BaseEstimator, TransformerMixin):\n",
    "    def __init__(self, model):\n",
    "        self.model = model\n",
    "\n",
    "    def fit(self, *args, **kwargs):\n",
    "        self.model.fit(*args, **kwargs)\n",
    "        return self\n",
    "\n",
    "    def transform(self, X, **transform_params):\n",
    "        return pd.DataFrame(self.model.predict(X))\n",
    "    \n",
    "full_pipeline = Pipeline([\n",
    "    ('feature_union', FeatureUnion([\n",
    "        ('lat_long_feature', Pipeline([\n",
    "            ('col_select', ColumnSelectTransformer(['latitude', 'longitude'])),\n",
    "            ('knn', ModelTransformer(KNeighborsRegressor(n_neighbors=70)))\n",
    "            ])),\n",
    "        ('category_feature', Pipeline([\n",
    "            ('col_select', ColumnSelectTransformer('categories')),\n",
    "            ('cat_trans', CategoryTransformer()),\n",
    "            ('vect', DictVectorizer()),\n",
    "            ('tfidf_vect', TfidfTransformer()),\n",
    "\n",
    "            ])),\n",
    "        ('attribute_feature', Pipeline([\n",
    "            ('col_select', ColumnSelectTransformer('attributes')),\n",
    "            ('attr_transformer', AttributeTransformer()),\n",
    "            ('vect', DictVectorizer()),\n",
    "            ('tfidf_vect', TfidfTransformer()),\n",
    "            ]))\n",
    "        ])),\n",
    "    ('est', Ridge())\n",
    "])\n",
    "\n",
    "cv = cross_validation.ShuffleSplit(int(len(data)*0.8), n_iter=20, test_size=0.2, random_state=22)\n",
    "ridge_param_grid = { \"est__alpha\": np.logspace(-6., -.3, 5) }\n",
    "full_ridge_cv = grid_search.GridSearchCV(full_pipeline,\n",
    "                                         param_grid=ridge_param_grid, cv=cv,\n",
    "                                         scoring=\"mean_squared_error\")\n",
    "test_estimator(full_ridge_cv, data, star).score()"
   ]
  }
 ],
 "metadata": {
  "kernelspec": {
   "display_name": "Python 2",
   "language": "python",
   "name": "python2"
  },
  "language_info": {
   "codemirror_mode": {
    "name": "ipython",
    "version": 2
   },
   "file_extension": ".py",
   "mimetype": "text/x-python",
   "name": "python",
   "nbconvert_exporter": "python",
   "pygments_lexer": "ipython2",
   "version": "2.7.10"
  }
 },
 "nbformat": 4,
 "nbformat_minor": 0
}
